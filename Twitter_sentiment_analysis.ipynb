{
  "nbformat": 4,
  "nbformat_minor": 0,
  "metadata": {
    "accelerator": "TPU",
    "colab": {
      "name": "Twitter sentiment analysis.ipynb",
      "provenance": [],
      "collapsed_sections": [],
      "toc_visible": true,
      "machine_shape": "hm"
    },
    "kernelspec": {
      "display_name": "Python 3",
      "language": "python",
      "name": "python3"
    },
    "language_info": {
      "codemirror_mode": {
        "name": "ipython",
        "version": 3
      },
      "file_extension": ".py",
      "mimetype": "text/x-python",
      "name": "python",
      "nbconvert_exporter": "python",
      "pygments_lexer": "ipython3",
      "version": "3.7.4"
    }
  },
  "cells": [
    {
      "cell_type": "markdown",
      "metadata": {
        "colab_type": "text",
        "id": "Zmly6_quHRav"
      },
      "source": [
        "## Twitter Sentiment Analysis\n",
        "\n"
      ]
    },
    {
      "cell_type": "code",
      "metadata": {
        "id": "JI7dTPOYF2UL",
        "colab_type": "code",
        "colab": {
          "base_uri": "https://localhost:8080/",
          "height": 36
        },
        "outputId": "7037e842-fb04-4af0-f796-91bf5db17d26"
      },
      "source": [
        "from google.colab import drive\n",
        "drive.mount('/content/drive')"
      ],
      "execution_count": 2,
      "outputs": [
        {
          "output_type": "stream",
          "text": [
            "Drive already mounted at /content/drive; to attempt to forcibly remount, call drive.mount(\"/content/drive\", force_remount=True).\n"
          ],
          "name": "stdout"
        }
      ]
    },
    {
      "cell_type": "markdown",
      "metadata": {
        "colab_type": "text",
        "id": "CBQizOrFUEEH"
      },
      "source": [
        " Step 1 - Import Packages "
      ]
    },
    {
      "cell_type": "code",
      "metadata": {
        "colab_type": "code",
        "id": "hfmW0iQBTkrG",
        "outputId": "69be0894-af1c-4b93-ecf6-6eef43001b6e",
        "colab": {
          "base_uri": "https://localhost:8080/",
          "height": 91
        }
      },
      "source": [
        "#Importing relevant packages\n",
        "import nltk\n",
        "import os\n",
        "nltk.download('punkt')\n",
        "from nltk.corpus.reader.plaintext import PlaintextCorpusReader\n",
        "\n",
        "nltk.download('stopwords')\n",
        "from nltk.corpus import stopwords\n",
        "\n",
        "from nltk.stem import PorterStemmer\n",
        "stemmer = PorterStemmer()\n",
        "\n",
        "from collections import Counter\n",
        "\n",
        "import pandas as pd\n",
        "import nltk\n",
        "import numpy as np\n",
        "import random\n",
        "import string\n",
        "\n",
        "import bs4 as bs\n",
        "import urllib.request\n",
        "import re\n"
      ],
      "execution_count": 3,
      "outputs": [
        {
          "output_type": "stream",
          "text": [
            "[nltk_data] Downloading package punkt to /root/nltk_data...\n",
            "[nltk_data]   Unzipping tokenizers/punkt.zip.\n",
            "[nltk_data] Downloading package stopwords to /root/nltk_data...\n",
            "[nltk_data]   Unzipping corpora/stopwords.zip.\n"
          ],
          "name": "stdout"
        }
      ]
    },
    {
      "cell_type": "code",
      "metadata": {
        "id": "sM87h93zF_L0",
        "colab_type": "code",
        "colab": {
          "base_uri": "https://localhost:8080/",
          "height": 36
        },
        "outputId": "cf2de04a-d9b7-4bef-ec42-6dbaa143c49a"
      },
      "source": [
        "import os\n",
        "path = '..../File Location'\n",
        "os.chdir(path)\n",
        "os.getcwd()\n"
      ],
      "execution_count": 4,
      "outputs": [
        {
          "output_type": "execute_result",
          "data": {
            "text/plain": [
              "'/content/drive/My Drive/IDS 566'"
            ]
          },
          "metadata": {
            "tags": []
          },
          "execution_count": 4
        }
      ]
    },
    {
      "cell_type": "markdown",
      "metadata": {
        "colab_type": "text",
        "id": "Mz0bBQk8UNFW"
      },
      "source": [
        "Step 2 - Import Data"
      ]
    },
    {
      "cell_type": "code",
      "metadata": {
        "colab_type": "code",
        "id": "MBf8Twg0_mfA",
        "outputId": "f7bb502b-cf33-428f-af78-001f30745479",
        "colab": {
          "base_uri": "https://localhost:8080/",
          "height": 206
        }
      },
      "source": [
        "#reading the document line by line\n",
        "train_list = []         \n",
        "\n",
        "mytxt = open(\"train_90.txt\", 'rt', encoding = 'utf8')  #\n",
        " #we save each line of the document in the list called doc\n",
        " \n",
        "for line in mytxt:   \n",
        "    train_list.append(line)\n",
        "\n",
        "mytxt.close()\n",
        "\n",
        "myid = []\n",
        "sentiment = []\n",
        "src = []\n",
        "mytext = []\n",
        "sample = []\n",
        "tweet = []\n",
        "sep = \"\"\n",
        "for i in range(1,len(train_list)):\n",
        "  row = train_list[i].split(\",\")\n",
        "  myid.append(row[0])\n",
        "  sentiment.append(row[1])\n",
        "  #src.append(row[2])\n",
        "  mytext.append(sep.join(row[3:]))\n",
        "\n",
        "\n",
        "training = [myid, sentiment, mytext]\n",
        "training = pd.DataFrame(training)\n",
        "training = training.transpose()\n",
        "training.columns = ['ItemID',\t'Sentiment',\t'SentimentText']\n",
        "training.head()"
      ],
      "execution_count": 5,
      "outputs": [
        {
          "output_type": "execute_result",
          "data": {
            "text/html": [
              "<div>\n",
              "<style scoped>\n",
              "    .dataframe tbody tr th:only-of-type {\n",
              "        vertical-align: middle;\n",
              "    }\n",
              "\n",
              "    .dataframe tbody tr th {\n",
              "        vertical-align: top;\n",
              "    }\n",
              "\n",
              "    .dataframe thead th {\n",
              "        text-align: right;\n",
              "    }\n",
              "</style>\n",
              "<table border=\"1\" class=\"dataframe\">\n",
              "  <thead>\n",
              "    <tr style=\"text-align: right;\">\n",
              "      <th></th>\n",
              "      <th>ItemID</th>\n",
              "      <th>Sentiment</th>\n",
              "      <th>SentimentText</th>\n",
              "    </tr>\n",
              "  </thead>\n",
              "  <tbody>\n",
              "    <tr>\n",
              "      <th>0</th>\n",
              "      <td>1</td>\n",
              "      <td>0</td>\n",
              "      <td>is so sad for my APL frie...</td>\n",
              "    </tr>\n",
              "    <tr>\n",
              "      <th>1</th>\n",
              "      <td>2</td>\n",
              "      <td>0</td>\n",
              "      <td>I missed the New Moon trail...</td>\n",
              "    </tr>\n",
              "    <tr>\n",
              "      <th>2</th>\n",
              "      <td>3</td>\n",
              "      <td>1</td>\n",
              "      <td>omg its already 7:30 :O\\n</td>\n",
              "    </tr>\n",
              "    <tr>\n",
              "      <th>3</th>\n",
              "      <td>4</td>\n",
              "      <td>0</td>\n",
              "      <td>.. Omgaga. Im sooo  im gunna CRy. I'...</td>\n",
              "    </tr>\n",
              "    <tr>\n",
              "      <th>4</th>\n",
              "      <td>5</td>\n",
              "      <td>0</td>\n",
              "      <td>i think mi bf is cheating on me!!!   ...</td>\n",
              "    </tr>\n",
              "  </tbody>\n",
              "</table>\n",
              "</div>"
            ],
            "text/plain": [
              "  ItemID Sentiment                                      SentimentText\n",
              "0      1         0                       is so sad for my APL frie...\n",
              "1      2         0                     I missed the New Moon trail...\n",
              "2      3         1                          omg its already 7:30 :O\\n\n",
              "3      4         0            .. Omgaga. Im sooo  im gunna CRy. I'...\n",
              "4      5         0           i think mi bf is cheating on me!!!   ..."
            ]
          },
          "metadata": {
            "tags": []
          },
          "execution_count": 5
        }
      ]
    },
    {
      "cell_type": "code",
      "metadata": {
        "colab_type": "code",
        "id": "LDdYCJp2rHZV",
        "outputId": "56d0c51f-d89f-4001-e786-59f42ffc9487",
        "colab": {
          "base_uri": "https://localhost:8080/",
          "height": 206
        }
      },
      "source": [
        "#reading the test line by line\n",
        "test_list = []\n",
        "mytxt = open(\"test_10.txt\", 'rt', encoding = 'utf8')  #\n",
        " \n",
        " \n",
        "for line in mytxt:   \n",
        "    test_list.append(line)\n",
        "\n",
        "mytxt.close()\n",
        "myid = []\n",
        "sentiment = []\n",
        "mytext = []\n",
        "sample = []\n",
        "tweet = []\n",
        "sep = \"\"\n",
        "for i in range(1,len(test_list)):\n",
        "  row = test_list[i].split(\",\")\n",
        "  myid.append(row[0])\n",
        "  sentiment.append(row[1])\n",
        "  mytext.append(sep.join(row[3:]))\n",
        "\n",
        "\n",
        "test = [myid, sentiment, mytext]\n",
        "test = pd.DataFrame(test)\n",
        "test = test.transpose()\n",
        "test.columns = ['ItemID',\t'Sentiment',\t'SentimentText']\n",
        "test.head()"
      ],
      "execution_count": 6,
      "outputs": [
        {
          "output_type": "execute_result",
          "data": {
            "text/html": [
              "<div>\n",
              "<style scoped>\n",
              "    .dataframe tbody tr th:only-of-type {\n",
              "        vertical-align: middle;\n",
              "    }\n",
              "\n",
              "    .dataframe tbody tr th {\n",
              "        vertical-align: top;\n",
              "    }\n",
              "\n",
              "    .dataframe thead th {\n",
              "        text-align: right;\n",
              "    }\n",
              "</style>\n",
              "<table border=\"1\" class=\"dataframe\">\n",
              "  <thead>\n",
              "    <tr style=\"text-align: right;\">\n",
              "      <th></th>\n",
              "      <th>ItemID</th>\n",
              "      <th>Sentiment</th>\n",
              "      <th>SentimentText</th>\n",
              "    </tr>\n",
              "  </thead>\n",
              "  <tbody>\n",
              "    <tr>\n",
              "      <th>0</th>\n",
              "      <td>90001</td>\n",
              "      <td>1</td>\n",
              "      <td>\"@CleverMonkeys but AFTER you hit up the Magno...</td>\n",
              "    </tr>\n",
              "    <tr>\n",
              "      <th>1</th>\n",
              "      <td>90002</td>\n",
              "      <td>1</td>\n",
              "      <td>@CleverMonkeys only seen a boot on a car in mo...</td>\n",
              "    </tr>\n",
              "    <tr>\n",
              "      <th>2</th>\n",
              "      <td>90003</td>\n",
              "      <td>1</td>\n",
              "      <td>@clevertitania Good morning. We have rain and ...</td>\n",
              "    </tr>\n",
              "    <tr>\n",
              "      <th>3</th>\n",
              "      <td>90004</td>\n",
              "      <td>1</td>\n",
              "      <td>@clewis4u91 so glad i'm not there then \\n</td>\n",
              "    </tr>\n",
              "    <tr>\n",
              "      <th>4</th>\n",
              "      <td>90005</td>\n",
              "      <td>0</td>\n",
              "      <td>@ClexIsEpic I MSS YOU!    sad cookie\\n</td>\n",
              "    </tr>\n",
              "  </tbody>\n",
              "</table>\n",
              "</div>"
            ],
            "text/plain": [
              "  ItemID Sentiment                                      SentimentText\n",
              "0  90001         1  \"@CleverMonkeys but AFTER you hit up the Magno...\n",
              "1  90002         1  @CleverMonkeys only seen a boot on a car in mo...\n",
              "2  90003         1  @clevertitania Good morning. We have rain and ...\n",
              "3  90004         1          @clewis4u91 so glad i'm not there then \\n\n",
              "4  90005         0             @ClexIsEpic I MSS YOU!    sad cookie\\n"
            ]
          },
          "metadata": {
            "tags": []
          },
          "execution_count": 6
        }
      ]
    },
    {
      "cell_type": "code",
      "metadata": {
        "colab_type": "code",
        "id": "6-5t0Mpy8xvd",
        "colab": {}
      },
      "source": [
        "training[\"Sentiment\"]= training.Sentiment.astype(float)\n",
        "test[\"Sentiment\"]= test.Sentiment.astype(float)"
      ],
      "execution_count": 0,
      "outputs": []
    },
    {
      "cell_type": "code",
      "metadata": {
        "id": "hO6_xaZ3KBI-",
        "colab_type": "code",
        "colab": {}
      },
      "source": [
        "#combining the dataframes\n",
        "combi = training.append(test, ignore_index=True)\n"
      ],
      "execution_count": 0,
      "outputs": []
    },
    {
      "cell_type": "code",
      "metadata": {
        "colab_type": "code",
        "id": "8AvAjmgXrHZ6",
        "colab": {}
      },
      "source": [
        "#Data cleaning and prepocessing - setting up a cleaning fucntion\n",
        "\n",
        "def dataclean(mydataframe,index):\n",
        "  mydataframe.iloc[:,index] = np.vectorize(remove_pattern)(mydataframe.iloc[:,index], \"@[\\w]*\")#removing handles\n",
        "  mydataframe.iloc[:,index] = mydataframe.iloc[:,index].str.replace(\"[^a-zA-Z#]\", \" \")#removing spl charectars\n",
        "  mydataframe.iloc[:,index] = mydataframe.iloc[:,index].apply(lambda x: ' '.join([w for w in x.split() if len(w)>1]))#removing short words\n",
        "  mydataframe.iloc[:,index] = mydataframe.iloc[:,index].apply(lambda x: \" \".join(x.lower() for x in x.split()))#lower case\n",
        "\n",
        "  #removing stop words\n",
        "  stop = stopwords.words('english')\n",
        "  mydataframe.iloc[:,index] = mydataframe.iloc[:,index].apply(lambda x: \" \".join(x for x in x.split() if x not in stop))\n",
        "  #apply stemming\n",
        "  st = PorterStemmer()\n",
        "  mydataframe.iloc[:,index] = mydataframe.iloc[:,index].apply(lambda x: \" \".join([st.stem(word) for word in x.split()]))\n",
        "  mydataframe.head()\n",
        "\n",
        "  return mydataframe\n",
        "\n",
        "def remove_pattern(input_txt, pattern):\n",
        "    r = re.findall(pattern, input_txt)\n",
        "    for i in r:\n",
        "        input_txt = re.sub(i, '', input_txt)\n",
        "        \n",
        "    return input_txt\n"
      ],
      "execution_count": 0,
      "outputs": []
    },
    {
      "cell_type": "code",
      "metadata": {
        "colab_type": "code",
        "id": "qvxtkiiqrV4T",
        "outputId": "5c8af004-f69c-4843-a853-234d7e7c3f17",
        "colab": {
          "base_uri": "https://localhost:8080/",
          "height": 54
        }
      },
      "source": [
        "#cleaning up the training and test data\n",
        "\n",
        "# %time training = dataclean(training,2)\n",
        "# %time test = dataclean(test,2)\n",
        "%time combi = dataclean(combi,2)"
      ],
      "execution_count": 10,
      "outputs": [
        {
          "output_type": "stream",
          "text": [
            "CPU times: user 17.7 s, sys: 186 ms, total: 17.9 s\n",
            "Wall time: 17.9 s\n"
          ],
          "name": "stdout"
        }
      ]
    },
    {
      "cell_type": "code",
      "metadata": {
        "colab_type": "code",
        "id": "hK-OPUmQvFpJ",
        "outputId": "617619d3-cec8-400f-9b5d-89ffb3ddf60b",
        "colab": {
          "base_uri": "https://localhost:8080/",
          "height": 36
        }
      },
      "source": [
        "from sklearn.feature_extraction.text import TfidfVectorizer\n",
        "import gensim\n",
        "\n",
        "tfidf_vectorizer = TfidfVectorizer(max_df=0.9, min_df=1, stop_words='english')\n",
        "tfidf = tfidf_vectorizer.fit_transform(combi['SentimentText'])\n",
        "print(tfidf.shape,type(tfidf))\n",
        "    "
      ],
      "execution_count": 11,
      "outputs": [
        {
          "output_type": "stream",
          "text": [
            "(100000, 42127) <class 'scipy.sparse.csr.csr_matrix'>\n"
          ],
          "name": "stdout"
        }
      ]
    },
    {
      "cell_type": "code",
      "metadata": {
        "id": "9UWiCEphiWqs",
        "colab_type": "code",
        "colab": {
          "base_uri": "https://localhost:8080/",
          "height": 36
        },
        "outputId": "2711194e-f5cd-401d-ccc4-d371a8946709"
      },
      "source": [
        "len(tfidf_vectorizer.get_feature_names())"
      ],
      "execution_count": 12,
      "outputs": [
        {
          "output_type": "execute_result",
          "data": {
            "text/plain": [
              "42127"
            ]
          },
          "metadata": {
            "tags": []
          },
          "execution_count": 12
        }
      ]
    },
    {
      "cell_type": "code",
      "metadata": {
        "colab_type": "code",
        "id": "eKf18uxEx-n7",
        "colab": {}
      },
      "source": [
        "X = tfidf\n",
        "train_tfidf =tfidf[:90000,:]\n",
        "test_tfidf = tfidf[90000:,:]\n",
        "\n",
        "y = combi['Sentiment']\n",
        "y_train = y[:90000]\n",
        "y_test = y[90000:]\n",
        "\n",
        "# y= y.to_numpy()\n"
      ],
      "execution_count": 0,
      "outputs": []
    },
    {
      "cell_type": "code",
      "metadata": {
        "id": "Zd9-uAXENs0E",
        "colab_type": "code",
        "colab": {
          "base_uri": "https://localhost:8080/",
          "height": 54
        },
        "outputId": "634a0645-7444-40e1-96f2-7ed5968613e0"
      },
      "source": [
        "print(\"Training\", train_tfidf.shape, y_train.shape)\n",
        "print(\"Test\", test_tfidf.shape, y_test.shape)"
      ],
      "execution_count": 14,
      "outputs": [
        {
          "output_type": "stream",
          "text": [
            "Training (90000, 42127) (90000,)\n",
            "Test (10000, 42127) (10000,)\n"
          ],
          "name": "stdout"
        }
      ]
    },
    {
      "cell_type": "code",
      "metadata": {
        "colab_type": "code",
        "id": "-P8XiH5TG9To",
        "colab": {}
      },
      "source": [
        "from sklearn.metrics import classification_report\n",
        "from sklearn.model_selection import cross_val_score\n",
        "from sklearn.model_selection import KFold\n",
        "from sklearn import model_selection\n",
        "from sklearn import metrics\n",
        "from sklearn.linear_model import LogisticRegression"
      ],
      "execution_count": 0,
      "outputs": []
    },
    {
      "cell_type": "code",
      "metadata": {
        "colab_type": "code",
        "id": "ez6WIPTl_ZFt",
        "outputId": "5ba3ec5c-889f-483e-e5c2-03b92dc5da0d",
        "colab": {
          "base_uri": "https://localhost:8080/",
          "height": 129
        }
      },
      "source": [
        "##crossvalidation to tune the best value for the penalty\n",
        "C = [.001,.01,.1,1.0,10]\n",
        "best_c = -100000\n",
        "best_acc = -100000\n",
        "for c in C:\n",
        "  kf = KFold(10, shuffle=True, random_state=7) # Use for KFold classification\n",
        "  fold_score = []\n",
        "\n",
        "  score = []\n",
        "  fold = 0\n",
        "\n",
        "  for train, valid in kf.split(train_tfidf):\n",
        "    fold+=1\n",
        "    x_train_cv = train_tfidf[train]\n",
        "    y_train_cv = y_train[train]\n",
        "    x_val = train_tfidf[valid]\n",
        "    y_val = y_train[valid]\n",
        "    # print( \"Fold#\", fold)\n",
        "\n",
        "    model = LogisticRegression(penalty = 'l2',C = c,solver = 'saga', tol =.00000001, random_state = 2911, max_iter=100000)\n",
        "    model.fit(x_train_cv,y_train_cv)\n",
        "\n",
        "    pred = model.predict(x_val)\n",
        "      \n",
        "\n",
        "    # Measure this fold's RMSE\n",
        "    m = metrics.accuracy_score(pred,y_val)\n",
        "    # print(round(m,3))\n",
        "    score.append(m)\n",
        "  f_score = np.array(score).mean()\n",
        "  if best_acc < f_score:\n",
        "    best_acc=f_score\n",
        "    best_c = c\n",
        "\n",
        " \n",
        "  print(\"Average Accuracy for C =\",c,\"=\",round(f_score,3))\n",
        "print('Best C = ', best_c, \"For accuracy :\", best_acc)"
      ],
      "execution_count": 16,
      "outputs": [
        {
          "output_type": "stream",
          "text": [
            "Average Accuracy for C = 0.001 = 0.563\n",
            "Average Accuracy for C = 0.01 = 0.672\n",
            "Average Accuracy for C = 0.1 = 0.732\n",
            "Average Accuracy for C = 1.0 = 0.742\n",
            "Average Accuracy for C = 10 = 0.73\n",
            "Best C =  1.0 For accuracy : 0.7424777777777778\n"
          ],
          "name": "stdout"
        }
      ]
    },
    {
      "cell_type": "code",
      "metadata": {
        "id": "Ka-SQ7xcMGkB",
        "colab_type": "code",
        "colab": {
          "base_uri": "https://localhost:8080/",
          "height": 221
        },
        "outputId": "07ef7a3c-6039-4d51-fa7d-58abb51f440c"
      },
      "source": [
        "%%time\n",
        "#Final Model\n",
        "\n",
        "model = LogisticRegression(penalty = 'l2',C = best_c,solver = 'saga', tol =.00000001, random_state = 2911, max_iter=100000)\n",
        "model.fit(train_tfidf,y_train)\n",
        "pred = model.predict(test_tfidf)\n",
        "print(classification_report(y_test,pred.transpose()))"
      ],
      "execution_count": 17,
      "outputs": [
        {
          "output_type": "stream",
          "text": [
            "              precision    recall  f1-score   support\n",
            "\n",
            "         0.0       0.71      0.62      0.66      4006\n",
            "         1.0       0.77      0.83      0.80      5994\n",
            "\n",
            "    accuracy                           0.75     10000\n",
            "   macro avg       0.74      0.73      0.73     10000\n",
            "weighted avg       0.74      0.75      0.74     10000\n",
            "\n",
            "CPU times: user 14.1 s, sys: 3 ms, total: 14.1 s\n",
            "Wall time: 14.2 s\n"
          ],
          "name": "stdout"
        }
      ]
    }
  ]
}