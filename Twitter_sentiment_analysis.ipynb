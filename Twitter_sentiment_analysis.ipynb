{
  "nbformat": 4,
  "nbformat_minor": 0,
  "metadata": {
    "colab": {
      "name": "Twitter sentiment analysis.ipynb",
      "provenance": [],
      "collapsed_sections": [],
      "toc_visible": true,
      "machine_shape": "hm",
      "include_colab_link": true
    },
    "kernelspec": {
      "display_name": "Python 3",
      "language": "python",
      "name": "python3"
    },
    "language_info": {
      "codemirror_mode": {
        "name": "ipython",
        "version": 3
      },
      "file_extension": ".py",
      "mimetype": "text/x-python",
      "name": "python",
      "nbconvert_exporter": "python",
      "pygments_lexer": "ipython3",
      "version": "3.7.4"
    }
  },
  "cells": [
    {
      "cell_type": "markdown",
      "metadata": {
        "id": "view-in-github",
        "colab_type": "text"
      },
      "source": [
        "<a href=\"https://colab.research.google.com/github/RajshreeM29/Twitter-Sentiment-Analysis/blob/master/Twitter_sentiment_analysis.ipynb\" target=\"_parent\"><img src=\"https://colab.research.google.com/assets/colab-badge.svg\" alt=\"Open In Colab\"/></a>"
      ]
    },
    {
      "cell_type": "markdown",
      "metadata": {
        "colab_type": "text",
        "id": "Zmly6_quHRav"
      },
      "source": [
        "## Twitter Sentiment Analysis\n",
        "\n"
      ]
    },
    {
      "cell_type": "code",
      "metadata": {
        "id": "JI7dTPOYF2UL",
        "colab_type": "code",
        "outputId": "0724d2f1-862d-478a-a55d-fb0c23c1aab7",
        "colab": {
          "base_uri": "https://localhost:8080/",
          "height": 130
        }
      },
      "source": [
        "from google.colab import drive\n",
        "drive.mount('/content/drive')"
      ],
      "execution_count": 0,
      "outputs": [
        {
          "output_type": "stream",
          "text": [
            "Mounted at /content/drive\n"
          ],
          "name": "stdout"
        }
      ]
    },
    {
      "cell_type": "markdown",
      "metadata": {
        "colab_type": "text",
        "id": "CBQizOrFUEEH"
      },
      "source": [
        " Step 1 - Import Packages "
      ]
    },
    {
      "cell_type": "code",
      "metadata": {
        "colab_type": "code",
        "id": "hfmW0iQBTkrG",
        "outputId": "b7b88f89-73f7-4a78-983b-98106dc3a447",
        "colab": {
          "base_uri": "https://localhost:8080/",
          "height": 223
        }
      },
      "source": [
        "#Importing relevant packages\n",
        "import nltk\n",
        "import os\n",
        "nltk.download('punkt')\n",
        "from nltk.corpus.reader.plaintext import PlaintextCorpusReader\n",
        "\n",
        "nltk.download('stopwords')\n",
        "from nltk.corpus import stopwords\n",
        "\n",
        "from nltk.stem import PorterStemmer\n",
        "stemmer = PorterStemmer()\n",
        "\n",
        "from collections import Counter\n",
        "\n",
        "import pandas as pd\n",
        "import nltk\n",
        "import numpy as np\n",
        "import random\n",
        "import string\n",
        "\n",
        "import bs4 as bs\n",
        "import urllib.request\n",
        "import re\n",
        "\n",
        "import matplotlib.pyplot as plt\n",
        "%matplotlib inline\n",
        "import numpy as np\n",
        "import pandas as pd\n",
        "import seaborn as sns\n",
        "sns.set()\n"
      ],
      "execution_count": 0,
      "outputs": [
        {
          "output_type": "stream",
          "text": [
            "[nltk_data] Downloading package punkt to /root/nltk_data...\n",
            "[nltk_data]   Unzipping tokenizers/punkt.zip.\n",
            "[nltk_data] Downloading package stopwords to /root/nltk_data...\n",
            "[nltk_data]   Unzipping corpora/stopwords.zip.\n"
          ],
          "name": "stdout"
        },
        {
          "output_type": "stream",
          "text": [
            "/usr/local/lib/python3.6/dist-packages/statsmodels/tools/_testing.py:19: FutureWarning: pandas.util.testing is deprecated. Use the functions in the public API at pandas.testing instead.\n",
            "  import pandas.util.testing as tm\n"
          ],
          "name": "stderr"
        },
        {
          "output_type": "stream",
          "text": [
            "[nltk_data] Downloading package punkt to /root/nltk_data...\n",
            "[nltk_data]   Package punkt is already up-to-date!\n",
            "[nltk_data] Downloading package stopwords to /root/nltk_data...\n",
            "[nltk_data]   Package stopwords is already up-to-date!\n"
          ],
          "name": "stdout"
        }
      ]
    },
    {
      "cell_type": "code",
      "metadata": {
        "id": "sM87h93zF_L0",
        "colab_type": "code",
        "colab": {}
      },
      "source": [
        "import os\n",
        "path = '.....(include loaction of files)'\n",
        "os.chdir(path)\n"
      ],
      "execution_count": 0,
      "outputs": []
    },
    {
      "cell_type": "markdown",
      "metadata": {
        "colab_type": "text",
        "id": "Mz0bBQk8UNFW"
      },
      "source": [
        "Step 2 - Import Data"
      ]
    },
    {
      "cell_type": "code",
      "metadata": {
        "colab_type": "code",
        "id": "MBf8Twg0_mfA",
        "outputId": "421a11c0-a725-4faa-bb05-201e08fcb95e",
        "colab": {
          "base_uri": "https://localhost:8080/",
          "height": 206
        }
      },
      "source": [
        "#reading the document line by line\n",
        "train_list = []         \n",
        "\n",
        "mytxt = open(\"train_90.txt\", 'rt', encoding = 'utf8')  #\n",
        " #we save each line of the document in the list called doc\n",
        " \n",
        "for line in mytxt:   \n",
        "    train_list.append(line)\n",
        "\n",
        "mytxt.close()\n",
        "\n",
        "myid = []\n",
        "sentiment = []\n",
        "src = []\n",
        "mytext = []\n",
        "sample = []\n",
        "tweet = []\n",
        "sep = \"\"\n",
        "for i in range(1,len(train_list)):\n",
        "  row = train_list[i].split(\",\")\n",
        "  myid.append(row[0])\n",
        "  sentiment.append(row[1])\n",
        "  #src.append(row[2])\n",
        "  mytext.append(sep.join(row[3:]))\n",
        "\n",
        "\n",
        "training = [myid, sentiment, mytext]\n",
        "training = pd.DataFrame(training)\n",
        "training = training.transpose()\n",
        "training.columns = ['ItemID',\t'Sentiment',\t'SentimentText']\n",
        "training.head()"
      ],
      "execution_count": 0,
      "outputs": [
        {
          "output_type": "execute_result",
          "data": {
            "text/html": [
              "<div>\n",
              "<style scoped>\n",
              "    .dataframe tbody tr th:only-of-type {\n",
              "        vertical-align: middle;\n",
              "    }\n",
              "\n",
              "    .dataframe tbody tr th {\n",
              "        vertical-align: top;\n",
              "    }\n",
              "\n",
              "    .dataframe thead th {\n",
              "        text-align: right;\n",
              "    }\n",
              "</style>\n",
              "<table border=\"1\" class=\"dataframe\">\n",
              "  <thead>\n",
              "    <tr style=\"text-align: right;\">\n",
              "      <th></th>\n",
              "      <th>ItemID</th>\n",
              "      <th>Sentiment</th>\n",
              "      <th>SentimentText</th>\n",
              "    </tr>\n",
              "  </thead>\n",
              "  <tbody>\n",
              "    <tr>\n",
              "      <th>0</th>\n",
              "      <td>1</td>\n",
              "      <td>0</td>\n",
              "      <td>is so sad for my APL frie...</td>\n",
              "    </tr>\n",
              "    <tr>\n",
              "      <th>1</th>\n",
              "      <td>2</td>\n",
              "      <td>0</td>\n",
              "      <td>I missed the New Moon trail...</td>\n",
              "    </tr>\n",
              "    <tr>\n",
              "      <th>2</th>\n",
              "      <td>3</td>\n",
              "      <td>1</td>\n",
              "      <td>omg its already 7:30 :O\\n</td>\n",
              "    </tr>\n",
              "    <tr>\n",
              "      <th>3</th>\n",
              "      <td>4</td>\n",
              "      <td>0</td>\n",
              "      <td>.. Omgaga. Im sooo  im gunna CRy. I'...</td>\n",
              "    </tr>\n",
              "    <tr>\n",
              "      <th>4</th>\n",
              "      <td>5</td>\n",
              "      <td>0</td>\n",
              "      <td>i think mi bf is cheating on me!!!   ...</td>\n",
              "    </tr>\n",
              "  </tbody>\n",
              "</table>\n",
              "</div>"
            ],
            "text/plain": [
              "  ItemID Sentiment                                      SentimentText\n",
              "0      1         0                       is so sad for my APL frie...\n",
              "1      2         0                     I missed the New Moon trail...\n",
              "2      3         1                          omg its already 7:30 :O\\n\n",
              "3      4         0            .. Omgaga. Im sooo  im gunna CRy. I'...\n",
              "4      5         0           i think mi bf is cheating on me!!!   ..."
            ]
          },
          "metadata": {
            "tags": []
          },
          "execution_count": 5
        }
      ]
    },
    {
      "cell_type": "code",
      "metadata": {
        "colab_type": "code",
        "id": "LDdYCJp2rHZV",
        "outputId": "274cabcc-d79b-4a93-bdb2-c662696a9557",
        "colab": {
          "base_uri": "https://localhost:8080/",
          "height": 206
        }
      },
      "source": [
        "#reading the test line by line\n",
        "test_list = []\n",
        "mytxt = open(\"test_10.txt\", 'rt', encoding = 'utf8')  #\n",
        " \n",
        " \n",
        "for line in mytxt:   \n",
        "    test_list.append(line)\n",
        "\n",
        "mytxt.close()\n",
        "myid = []\n",
        "sentiment = []\n",
        "mytext = []\n",
        "sample = []\n",
        "tweet = []\n",
        "sep = \"\"\n",
        "for i in range(1,len(test_list)):\n",
        "  row = test_list[i].split(\",\")\n",
        "  myid.append(row[0])\n",
        "  sentiment.append(row[1])\n",
        "  mytext.append(sep.join(row[3:]))\n",
        "\n",
        "\n",
        "test = [myid, sentiment, mytext]\n",
        "test = pd.DataFrame(test)\n",
        "test = test.transpose()\n",
        "test.columns = ['ItemID',\t'Sentiment',\t'SentimentText']\n",
        "test.head()"
      ],
      "execution_count": 0,
      "outputs": [
        {
          "output_type": "execute_result",
          "data": {
            "text/html": [
              "<div>\n",
              "<style scoped>\n",
              "    .dataframe tbody tr th:only-of-type {\n",
              "        vertical-align: middle;\n",
              "    }\n",
              "\n",
              "    .dataframe tbody tr th {\n",
              "        vertical-align: top;\n",
              "    }\n",
              "\n",
              "    .dataframe thead th {\n",
              "        text-align: right;\n",
              "    }\n",
              "</style>\n",
              "<table border=\"1\" class=\"dataframe\">\n",
              "  <thead>\n",
              "    <tr style=\"text-align: right;\">\n",
              "      <th></th>\n",
              "      <th>ItemID</th>\n",
              "      <th>Sentiment</th>\n",
              "      <th>SentimentText</th>\n",
              "    </tr>\n",
              "  </thead>\n",
              "  <tbody>\n",
              "    <tr>\n",
              "      <th>0</th>\n",
              "      <td>90001</td>\n",
              "      <td>1</td>\n",
              "      <td>\"@CleverMonkeys but AFTER you hit up the Magno...</td>\n",
              "    </tr>\n",
              "    <tr>\n",
              "      <th>1</th>\n",
              "      <td>90002</td>\n",
              "      <td>1</td>\n",
              "      <td>@CleverMonkeys only seen a boot on a car in mo...</td>\n",
              "    </tr>\n",
              "    <tr>\n",
              "      <th>2</th>\n",
              "      <td>90003</td>\n",
              "      <td>1</td>\n",
              "      <td>@clevertitania Good morning. We have rain and ...</td>\n",
              "    </tr>\n",
              "    <tr>\n",
              "      <th>3</th>\n",
              "      <td>90004</td>\n",
              "      <td>1</td>\n",
              "      <td>@clewis4u91 so glad i'm not there then \\n</td>\n",
              "    </tr>\n",
              "    <tr>\n",
              "      <th>4</th>\n",
              "      <td>90005</td>\n",
              "      <td>0</td>\n",
              "      <td>@ClexIsEpic I MSS YOU!    sad cookie\\n</td>\n",
              "    </tr>\n",
              "  </tbody>\n",
              "</table>\n",
              "</div>"
            ],
            "text/plain": [
              "  ItemID Sentiment                                      SentimentText\n",
              "0  90001         1  \"@CleverMonkeys but AFTER you hit up the Magno...\n",
              "1  90002         1  @CleverMonkeys only seen a boot on a car in mo...\n",
              "2  90003         1  @clevertitania Good morning. We have rain and ...\n",
              "3  90004         1          @clewis4u91 so glad i'm not there then \\n\n",
              "4  90005         0             @ClexIsEpic I MSS YOU!    sad cookie\\n"
            ]
          },
          "metadata": {
            "tags": []
          },
          "execution_count": 6
        }
      ]
    },
    {
      "cell_type": "code",
      "metadata": {
        "colab_type": "code",
        "id": "6-5t0Mpy8xvd",
        "colab": {}
      },
      "source": [
        "training[\"Sentiment\"]= training.Sentiment.astype('category')\n",
        "test[\"Sentiment\"]= test.Sentiment.astype('category')"
      ],
      "execution_count": 0,
      "outputs": []
    },
    {
      "cell_type": "code",
      "metadata": {
        "id": "mcOCbeXaPAbx",
        "colab_type": "code",
        "outputId": "1fc69b24-44e1-4f19-a1c8-cf6923728f54",
        "colab": {
          "base_uri": "https://localhost:8080/",
          "height": 394
        }
      },
      "source": [
        "##Let us quickly look at the distribution of the target variable\n",
        "\n",
        "fig, ax =plt.subplots(1,2 , figsize=(5,5))\n",
        "fig.tight_layout()\n",
        "plt.subplots_adjust(left=None, bottom=None, right=None, top=None, wspace=1.5, hspace=None)\n",
        "\n",
        "sns.countplot(training['Sentiment'], ax=ax[0],palette='GnBu_d').set_title(\"Training Data\",)\n",
        "ax[0].set_ylabel(\"Sentiment Frequency\")\n",
        "\n",
        "\n",
        "sns.countplot(test['Sentiment'], ax=ax[1],palette='GnBu_d').set_title(\"Test Data\")\n",
        "ax[1].set_ylabel(\"Sentiment Frequency\")\n",
        "fig.show()"
      ],
      "execution_count": 0,
      "outputs": [
        {
          "output_type": "display_data",
          "data": {
            "image/png": "[encoded data removed]",
            "text/plain": [
              "<Figure size 360x360 with 2 Axes>"
            ]
          },
          "metadata": {
            "tags": []
          }
        }
      ]
    },
    {
      "cell_type": "markdown",
      "metadata": {
        "id": "WYuXgVL1Cb02",
        "colab_type": "text"
      },
      "source": [
        "The data is balanced, target variable has even represenation in the training and test data"
      ]
    },
    {
      "cell_type": "code",
      "metadata": {
        "id": "hO6_xaZ3KBI-",
        "colab_type": "code",
        "colab": {}
      },
      "source": [
        "#combining the dataframes - since we will be extracting the tfidf features \n",
        "combi = training.append(test, ignore_index=True)\n"
      ],
      "execution_count": 0,
      "outputs": []
    },
    {
      "cell_type": "code",
      "metadata": {
        "colab_type": "code",
        "id": "8AvAjmgXrHZ6",
        "colab": {}
      },
      "source": [
        "#Data cleaning and prepocessing - setting up a cleaning fucntion\n",
        "\n",
        "def dataclean(mydataframe,index):\n",
        "  mydataframe.iloc[:,index] = np.vectorize(remove_pattern)(mydataframe.iloc[:,index], \"@[\\w]*\")#removing handles\n",
        "  mydataframe.iloc[:,index] = mydataframe.iloc[:,index].str.replace(\"[^a-zA-Z#]\", \" \")#removing special charectars\n",
        "  mydataframe.iloc[:,index] = mydataframe.iloc[:,index].apply(lambda x: ' '.join([w for w in x.split() if len(w)>1]))#removing short words\n",
        "  mydataframe.iloc[:,index] = mydataframe.iloc[:,index].apply(lambda x: \" \".join(x.lower() for x in x.split()))#lower case\n",
        "\n",
        "  #removing stop words\n",
        "  stop = stopwords.words('english')\n",
        "  mydataframe.iloc[:,index] = mydataframe.iloc[:,index].apply(lambda x: \" \".join(x for x in x.split() if x not in stop))\n",
        "  #apply stemming\n",
        "  st = PorterStemmer()\n",
        "  mydataframe.iloc[:,index] = mydataframe.iloc[:,index].apply(lambda x: \" \".join([st.stem(word) for word in x.split()]))\n",
        "  mydataframe.head()\n",
        "\n",
        "  return mydataframe\n",
        "\n",
        "def remove_pattern(input_txt, pattern):\n",
        "    r = re.findall(pattern, input_txt)\n",
        "    for i in r:\n",
        "        input_txt = re.sub(i, '', input_txt)\n",
        "        \n",
        "    return input_txt\n"
      ],
      "execution_count": 0,
      "outputs": []
    },
    {
      "cell_type": "code",
      "metadata": {
        "colab_type": "code",
        "id": "qvxtkiiqrV4T",
        "outputId": "b00f6332-5845-4342-a7c3-3fed89c3e25e",
        "colab": {
          "base_uri": "https://localhost:8080/",
          "height": 54
        }
      },
      "source": [
        "#cleaning up the training and test data\n",
        "\n",
        "# %time training = dataclean(training,2)\n",
        "# %time test = dataclean(test,2)\n",
        "%time combi = dataclean(combi,2)"
      ],
      "execution_count": 0,
      "outputs": [
        {
          "output_type": "stream",
          "text": [
            "CPU times: user 16.9 s, sys: 170 ms, total: 17.1 s\n",
            "Wall time: 17.1 s\n"
          ],
          "name": "stdout"
        }
      ]
    },
    {
      "cell_type": "code",
      "metadata": {
        "colab_type": "code",
        "id": "hK-OPUmQvFpJ",
        "outputId": "5295137f-97b2-4208-c215-b1d578006961",
        "colab": {
          "base_uri": "https://localhost:8080/",
          "height": 36
        }
      },
      "source": [
        "from sklearn.feature_extraction.text import TfidfVectorizer\n",
        "import gensim\n",
        "\n",
        "tfidf_vectorizer = TfidfVectorizer(max_df=0.9, min_df=1, stop_words='english')\n",
        "tfidf = tfidf_vectorizer.fit_transform(combi['SentimentText'])\n",
        "print(tfidf.shape,type(tfidf))\n",
        "    "
      ],
      "execution_count": 0,
      "outputs": [
        {
          "output_type": "stream",
          "text": [
            "(100000, 42127) <class 'scipy.sparse.csr.csr_matrix'>\n"
          ],
          "name": "stdout"
        }
      ]
    },
    {
      "cell_type": "code",
      "metadata": {
        "id": "9UWiCEphiWqs",
        "colab_type": "code",
        "outputId": "f9569be9-25ff-46f9-9b79-965c650a21db",
        "colab": {
          "base_uri": "https://localhost:8080/",
          "height": 36
        }
      },
      "source": [
        "len(tfidf_vectorizer.get_feature_names()) # number of features from the total dataset"
      ],
      "execution_count": 0,
      "outputs": [
        {
          "output_type": "execute_result",
          "data": {
            "text/plain": [
              "42127"
            ]
          },
          "metadata": {
            "tags": []
          },
          "execution_count": 13
        }
      ]
    },
    {
      "cell_type": "code",
      "metadata": {
        "colab_type": "code",
        "id": "eKf18uxEx-n7",
        "colab": {}
      },
      "source": [
        "train_tfidf =tfidf[:90000,:]\n",
        "test_tfidf = tfidf[90000:,:]\n",
        "\n",
        "y = combi['Sentiment']\n",
        "y_train = y[:90000]\n",
        "y_test = y[90000:]\n",
        "\n"
      ],
      "execution_count": 0,
      "outputs": []
    },
    {
      "cell_type": "code",
      "metadata": {
        "id": "Zd9-uAXENs0E",
        "colab_type": "code",
        "outputId": "d9c146cf-3caa-4361-d948-4d94f24a9ab6",
        "colab": {
          "base_uri": "https://localhost:8080/",
          "height": 54
        }
      },
      "source": [
        "print(\"Training\", train_tfidf.shape, y_train.shape)\n",
        "print(\"Test\", test_tfidf.shape, y_test.shape)"
      ],
      "execution_count": 0,
      "outputs": [
        {
          "output_type": "stream",
          "text": [
            "Training (90000, 42127) (90000,)\n",
            "Test (10000, 42127) (10000,)\n"
          ],
          "name": "stdout"
        }
      ]
    },
    {
      "cell_type": "code",
      "metadata": {
        "colab_type": "code",
        "id": "-P8XiH5TG9To",
        "colab": {}
      },
      "source": [
        "from sklearn.metrics import classification_report\n",
        "from sklearn.model_selection import cross_val_score\n",
        "from sklearn.model_selection import KFold\n",
        "from sklearn import model_selection\n",
        "from sklearn import metrics\n",
        "from sklearn.linear_model import LogisticRegression"
      ],
      "execution_count": 0,
      "outputs": []
    },
    {
      "cell_type": "code",
      "metadata": {
        "colab_type": "code",
        "id": "ez6WIPTl_ZFt",
        "outputId": "6e9e1209-a6b7-45dd-ee8a-7b07c6a95ef3",
        "colab": {
          "base_uri": "https://localhost:8080/",
          "height": 166
        }
      },
      "source": [
        "%%time\n",
        "##crossvalidation to tune the best value for the penalty\n",
        "C = [.001,.01,.1,1.0,10]\n",
        "best_c = -100000\n",
        "best_acc = -100000\n",
        "k = 3\n",
        "for c in C:\n",
        "  kf = KFold(k, shuffle=True, random_state=7) # Use for KFold classification\n",
        "  fold_score = []\n",
        "\n",
        "  score = []\n",
        "  fold = 0\n",
        "\n",
        "  for train, valid in kf.split(train_tfidf):\n",
        "    fold+=1\n",
        "    x_train_cv = train_tfidf[train]\n",
        "    y_train_cv = y_train[train]\n",
        "    x_val = train_tfidf[valid]\n",
        "    y_val = y_train[valid]\n",
        "    # print( \"Fold#\", fold)\n",
        "\n",
        "    model = LogisticRegression(penalty = 'l2',C = c,solver = 'saga', tol =.00000001, random_state = 2911, max_iter=100000)\n",
        "    model.fit(x_train_cv,y_train_cv)\n",
        "\n",
        "    pred = model.predict(x_val)\n",
        "      \n",
        "\n",
        "    # Measure this fold's RMSE\n",
        "    m = metrics.accuracy_score(pred,y_val)\n",
        "    # print(round(m,3))\n",
        "    score.append(m)\n",
        "  fold_score = np.array(score).mean()\n",
        "  if best_acc < fold_score:\n",
        "    best_acc=fold_score\n",
        "    best_c = c\n",
        "\n",
        " \n",
        "  print(\"Average Accuracy for C =\",c,\"=\",round(fold_score,3))\n",
        "print('Best C = ', best_c, \"For accuracy :\", round(best_acc,3))"
      ],
      "execution_count": 0,
      "outputs": [
        {
          "output_type": "stream",
          "text": [
            "Average Accuracy for C = 0.001 = 0.561\n",
            "Average Accuracy for C = 0.01 = 0.657\n",
            "Average Accuracy for C = 0.1 = 0.727\n",
            "Average Accuracy for C = 1.0 = 0.74\n",
            "Average Accuracy for C = 10 = 0.727\n",
            "Best C =  1.0 For accuracy : 0.74\n",
            "CPU times: user 1min 21s, sys: 4.23 ms, total: 1min 21s\n",
            "Wall time: 1min 21s\n"
          ],
          "name": "stdout"
        }
      ]
    },
    {
      "cell_type": "code",
      "metadata": {
        "id": "Ka-SQ7xcMGkB",
        "colab_type": "code",
        "outputId": "43a84b41-931e-4512-b94c-3768220db207",
        "colab": {
          "base_uri": "https://localhost:8080/",
          "height": 221
        }
      },
      "source": [
        "%%time\n",
        "#Final Model\n",
        "\n",
        "model = LogisticRegression(penalty = 'l2',C = best_c,solver = 'saga', tol =.00000001, random_state = 2911, max_iter=100000)\n",
        "model.fit(train_tfidf,y_train)\n",
        "pred = model.predict(test_tfidf)\n",
        "print(classification_report(y_test,pred.transpose()))"
      ],
      "execution_count": 0,
      "outputs": [
        {
          "output_type": "stream",
          "text": [
            "              precision    recall  f1-score   support\n",
            "\n",
            "           0       0.71      0.62      0.66      4006\n",
            "           1       0.77      0.83      0.80      5994\n",
            "\n",
            "    accuracy                           0.75     10000\n",
            "   macro avg       0.74      0.73      0.73     10000\n",
            "weighted avg       0.74      0.75      0.74     10000\n",
            "\n",
            "CPU times: user 7.37 s, sys: 5.81 ms, total: 7.38 s\n",
            "Wall time: 7.38 s\n"
          ],
          "name": "stdout"
        }
      ]
    }
  ]
}
